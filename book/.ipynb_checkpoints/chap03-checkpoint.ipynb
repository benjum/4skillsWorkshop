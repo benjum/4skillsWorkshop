{
 "cells": [
  {
   "cell_type": "markdown",
   "id": "wrapped-scholarship",
   "metadata": {},
   "source": [
    "# Chapter 3\n",
    "\n",
    "This is a Jupyter Notebook.  This notebook contains sample Python codes."
   ]
  },
  {
   "cell_type": "code",
   "execution_count": 1,
   "id": "scientific-affairs",
   "metadata": {},
   "outputs": [
    {
     "name": "stdout",
     "output_type": "stream",
     "text": [
      "Hello world!\n"
     ]
    }
   ],
   "source": [
    "print(\"Hello world!\")"
   ]
  },
  {
   "cell_type": "code",
   "execution_count": 2,
   "id": "lined-hobby",
   "metadata": {},
   "outputs": [
    {
     "name": "stdout",
     "output_type": "stream",
     "text": [
      "Sum = 6\n"
     ]
    }
   ],
   "source": [
    "L = [1, 2, 3]\n",
    "sum = 0\n",
    "for num in L:\n",
    "    sum = sum + num\n",
    "print('Sum =', sum)"
   ]
  }
 ],
 "metadata": {
  "kernelspec": {
   "display_name": "Python 3",
   "language": "python",
   "name": "python3"
  },
  "language_info": {
   "codemirror_mode": {
    "name": "ipython",
    "version": 3
   },
   "file_extension": ".py",
   "mimetype": "text/x-python",
   "name": "python",
   "nbconvert_exporter": "python",
   "pygments_lexer": "ipython3",
   "version": "3.9.5"
  }
 },
 "nbformat": 4,
 "nbformat_minor": 5
}

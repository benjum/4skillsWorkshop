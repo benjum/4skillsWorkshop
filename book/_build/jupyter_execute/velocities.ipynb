{
 "cells": [
  {
   "cell_type": "markdown",
   "metadata": {},
   "source": [
    "# Waves"
   ]
  },
  {
   "cell_type": "markdown",
   "metadata": {},
   "source": [
    "Closely related terms:\n",
    "* normal modes\n",
    "* natural oscillations / frequencies\n",
    "* resonance\n",
    "* collective modes\n",
    "* dispersion relations"
   ]
  },
  {
   "cell_type": "markdown",
   "metadata": {},
   "source": [
    "Suppose you knew the initial values for the $\\vec{E}$ and $\\vec{B}$ fields in a plasma at some initial time.  You might wonder what the fields are at any later time.\n",
    "\n",
    "How do you answer this?"
   ]
  },
  {
   "cell_type": "markdown",
   "metadata": {},
   "source": [
    "Consider the ridiculously simple example of a spring.  "
   ]
  },
  {
   "cell_type": "markdown",
   "metadata": {},
   "source": [
    "(Reminder: Hit Shift+Enter to run a cell, or select the cell and click on the \"Run\" button in the top menu bar)"
   ]
  },
  {
   "cell_type": "code",
   "execution_count": 1,
   "metadata": {},
   "outputs": [
    {
     "data": {
      "text/html": [
       "<img src=\"./Harmonic1.gif\">"
      ],
      "text/plain": [
       "<IPython.core.display.HTML object>"
      ]
     },
     "execution_count": 1,
     "metadata": {},
     "output_type": "execute_result"
    }
   ],
   "source": [
    "from IPython.display import HTML\n",
    "HTML('<img src=\"./Harmonic1.gif\">')  # retrieved from http://mathforum.org/mathimages/imgUpload/SolveHarmonic.gif"
   ]
  },
  {
   "cell_type": "markdown",
   "metadata": {},
   "source": [
    "The equations are:  \n",
    "\n",
    "$$m \\frac{dv}{dt} = F$$ \n",
    "\n",
    "$$v = \\frac{dx}{dt}$$\n",
    "\n",
    "$$F = -kx$$  \n",
    "\n",
    "In principle you could use these equations to solve for the motion of the spring.\n",
    "\n",
    "Or since there are three equations and three unknowns (x, v, and F), you can combine these equations into a single equation of only one quantity $x$:\n",
    "\n",
    "$$\\frac{d^2x}{dt^2} + \\frac{k}{m}x = 0$$\n",
    "\n",
    "With $\\omega_0 = \\sqrt{k/m}$, we find the harmonic oscillator equation:\n",
    "\n",
    "$$\\frac{d^2x}{dt^2} + \\omega_0^2 x = 0$$"
   ]
  },
  {
   "cell_type": "markdown",
   "metadata": {},
   "source": [
    "The solution to this equation is \n",
    "$$x = A \\cos{\\omega_0 t} + B \\sin{\\omega_0 t}$$  \n",
    "where A and B are determined from the initial conditions for $x$ and $v$, and $\\omega_0$ is the \"natural\" frequency."
   ]
  },
  {
   "cell_type": "code",
   "execution_count": 2,
   "metadata": {},
   "outputs": [
    {
     "data": {
      "text/html": [
       "<img src=\"./Harmonic2.gif\">"
      ],
      "text/plain": [
       "<IPython.core.display.HTML object>"
      ]
     },
     "execution_count": 2,
     "metadata": {},
     "output_type": "execute_result"
    }
   ],
   "source": [
    "from IPython.display import HTML\n",
    "HTML('<img src=\"./Harmonic2.gif\">')  # retrieved from https://www.maplesoft.com/view.aspx?SI=3926/forced_oscillations65.gif"
   ]
  },
  {
   "cell_type": "markdown",
   "metadata": {},
   "source": [
    "If all we wanted was the natural frequency for a (set of coupled) equation(s), we could substitute $x = \\Re[\\bar{x}e^{i\\omega t}]$ into the equation(s).\n",
    "\n",
    "For our example ($\\frac{d^2x}{dt^2} + \\omega_0^2 x = 0$), this gives\n",
    "\n",
    "$$(-\\omega^2 + \\omega_0^2) \\bar{x}e^{i\\omega t} = 0$$,\n",
    "\n",
    "$$\\omega = \\pm \\omega_0$$"
   ]
  },
  {
   "cell_type": "markdown",
   "metadata": {},
   "source": [
    "We could also instead substitute $x = \\bar{x}e^{i\\omega t}$, $v = \\bar{v}e^{i\\omega t}$, and $F = \\bar{F}e^{i\\omega t}$ into the original three equations, giving  \n",
    "\n",
    "$$[mi\\omega \\bar{v} = \\bar{F}]e^{i\\omega t}$$  \n",
    "$$[\\bar{v} = i\\omega \\bar{x}]e^{i\\omega t}$$  \n",
    "$$[\\bar{F} = -k \\bar{x}]e^{i\\omega t}$$\n",
    "\n",
    "This is now just a set of algebraic equations to solve (rather than a differential equation).  $\\bar{x}$, $\\bar{v}$, and $\\bar{F}$ are complex numbers, sometimes called phasors.\n",
    "\n",
    "Solving the three equations gives  \n",
    "\n",
    "$$mi\\omega(i\\omega\\bar{x}) = -k\\bar{x}$$  \n",
    "$$\\left(-\\omega^2 + \\frac{k}{m}\\right)\\bar{x} = 0$$\n",
    "\n",
    "and again we find $\\omega = \\sqrt{k/m}$."
   ]
  },
  {
   "cell_type": "markdown",
   "metadata": {},
   "source": [
    "This method is useful because sometimes it is not possible to obtain a single equation to solve.  We can \"Fourier Analyze\" each equation and then solve the algebraic equations for the Fourier \"amplitudes.\"\n",
    "\n",
    "Note that this only works for linear equations.  (Why??)"
   ]
  },
  {
   "cell_type": "markdown",
   "metadata": {},
   "source": [
    "If we add an external driving force to the equations:\n",
    "\n",
    "$$F = -kx + F_{ext}$$\n",
    "\n",
    "then\n",
    "\n",
    "$$\\left(\\frac{d^2}{dt^2} + \\omega_0^2\\right)x = F_{ext}$$\n",
    "\n",
    "If $F_{ext} = F_0 e^{i\\omega t}$ then when $\\omega \\rightarrow \\omega_0$ the amplitude of x gets very large\n",
    "\n",
    "$$\\bar{x} = \\frac{F_0}{-\\omega^2 + \\omega_0^2}$$\n",
    "\n",
    "This is called resonance:  Drive something at its resonance (at its natural frequency) and it gets very large."
   ]
  },
  {
   "cell_type": "code",
   "execution_count": 3,
   "metadata": {},
   "outputs": [
    {
     "data": {
      "text/html": [
       "<img src=\"./forcedoscillator.gif\">"
      ],
      "text/plain": [
       "<IPython.core.display.HTML object>"
      ]
     },
     "execution_count": 3,
     "metadata": {},
     "output_type": "execute_result"
    }
   ],
   "source": [
    "from IPython.display import HTML\n",
    "HTML('<img src=\"./forcedoscillator.gif\">')  # retrieved from http://www.acs.psu.edu/drussell/Demos/SHO/forced.gif"
   ]
  },
  {
   "cell_type": "markdown",
   "metadata": {},
   "source": [
    "## Phase velocity"
   ]
  },
  {
   "cell_type": "markdown",
   "metadata": {},
   "source": [
    "We now consider waves that can move in space as well as oscillate in time.\n",
    "\n",
    "Consider the following partial differential equation:\n",
    "\n",
    "$$\\left(\\frac{\\partial^2}{\\partial t^2} - v_{\\phi}^2\\frac{\\partial^2}{\\partial x^2}\\right)\\vec{E} = 0$$\n",
    "\n",
    "This wave equation pops up in several areas across physics.  For example, by taking the curl of Faraday's law,\n",
    "\n",
    "$$\\nabla \\times \\left[- \\nabla \\times \\vec{E} = \\frac{\\partial}{\\partial t}\\vec{B} \\right]$$\n",
    "\n",
    "and combining it with the time derivative of Ampere's Law in the case of zero current (like in a vacuum),\n",
    "\n",
    "$$\\frac{\\partial}{\\partial t} \\left[ \\nabla \\times \\vec{B} = \\frac{1}{c^2}\\frac{\\partial}{\\partial t}\\vec{E} \\right]$$\n",
    "\n",
    "we get \n",
    "\n",
    "$$\\nabla \\times \\nabla \\times \\vec{E} + \\frac{1}{c^2}\\frac{\\partial^2}{\\partial t^2}\\vec{E} = 0$$\n",
    "\n",
    "If it is 1D-like with only variations in x (so that $\\partial/\\partial x \\neq 0$ but $\\partial/\\partial y = \\partial/\\partial z = 0$),\n",
    "\n",
    "$$\\left(\\frac{\\partial^2}{\\partial t^2} - c^2 \\frac{\\partial^2}{\\partial x^2}\\right)\\vec{E} = 0$$\n",
    "\n",
    "And $c$ turns out to be the velocity of these electromagnetic waves.\n",
    "\n",
    "Returning to the above equation with $v_{\\phi}$, let\n",
    "\n",
    "$$E = \\bar{E}e^{i(kx-\\omega t)}$$\n",
    "\n",
    "then\n",
    "\n",
    "$$\\left(-\\omega^2 + k^2 v_{\\phi}^2\\right)\\bar{E}e^{i(kx-\\omega t)} = 0$$\n",
    "\n",
    "$$ \\omega = \\pm k v_{\\phi}$$\n",
    "\n",
    "$ v_{\\phi} = \\omega/k $ is called the phase velocity of the wave."
   ]
  },
  {
   "cell_type": "code",
   "execution_count": 4,
   "metadata": {},
   "outputs": [
    {
     "ename": "RuntimeError",
     "evalue": "Requested MovieWriter (ffmpeg) not available",
     "output_type": "error",
     "traceback": [
      "\u001b[0;31m---------------------------------------------------------------------------\u001b[0m",
      "\u001b[0;31mRuntimeError\u001b[0m                              Traceback (most recent call last)",
      "\u001b[0;32m<ipython-input-4-322a76b5bb2b>\u001b[0m in \u001b[0;36m<module>\u001b[0;34m\u001b[0m\n\u001b[1;32m     26\u001b[0m \u001b[0;31m# call the animator. blit=True means only re-draw the parts that have changed.\u001b[0m\u001b[0;34m\u001b[0m\u001b[0;34m\u001b[0m\u001b[0;34m\u001b[0m\u001b[0m\n\u001b[1;32m     27\u001b[0m \u001b[0manim\u001b[0m \u001b[0;34m=\u001b[0m \u001b[0manimation\u001b[0m\u001b[0;34m.\u001b[0m\u001b[0mFuncAnimation\u001b[0m\u001b[0;34m(\u001b[0m\u001b[0mfig\u001b[0m\u001b[0;34m,\u001b[0m \u001b[0manimate\u001b[0m\u001b[0;34m,\u001b[0m \u001b[0minit_func\u001b[0m\u001b[0;34m=\u001b[0m\u001b[0minit\u001b[0m\u001b[0;34m,\u001b[0m\u001b[0mframes\u001b[0m\u001b[0;34m=\u001b[0m\u001b[0mint\u001b[0m\u001b[0;34m(\u001b[0m\u001b[0;36m2\u001b[0m\u001b[0;34m*\u001b[0m\u001b[0mnp\u001b[0m\u001b[0;34m.\u001b[0m\u001b[0mpi\u001b[0m\u001b[0;34m/\u001b[0m\u001b[0mw\u001b[0m\u001b[0;34m*\u001b[0m\u001b[0;36m40\u001b[0m\u001b[0;34m)\u001b[0m\u001b[0;34m,\u001b[0m \u001b[0minterval\u001b[0m\u001b[0;34m=\u001b[0m\u001b[0;36m20\u001b[0m\u001b[0;34m,\u001b[0m \u001b[0mblit\u001b[0m\u001b[0;34m=\u001b[0m\u001b[0;32mTrue\u001b[0m\u001b[0;34m)\u001b[0m\u001b[0;34m\u001b[0m\u001b[0;34m\u001b[0m\u001b[0m\n\u001b[0;32m---> 28\u001b[0;31m \u001b[0mHTML\u001b[0m\u001b[0;34m(\u001b[0m\u001b[0manim\u001b[0m\u001b[0;34m.\u001b[0m\u001b[0mto_html5_video\u001b[0m\u001b[0;34m(\u001b[0m\u001b[0;34m)\u001b[0m\u001b[0;34m)\u001b[0m\u001b[0;34m\u001b[0m\u001b[0;34m\u001b[0m\u001b[0m\n\u001b[0m",
      "\u001b[0;32m/usr/local/lib/python3.9/site-packages/matplotlib/animation.py\u001b[0m in \u001b[0;36mto_html5_video\u001b[0;34m(self, embed_limit)\u001b[0m\n\u001b[1;32m   1330\u001b[0m                 \u001b[0;31m# We create a writer manually so that we can get the\u001b[0m\u001b[0;34m\u001b[0m\u001b[0;34m\u001b[0m\u001b[0;34m\u001b[0m\u001b[0m\n\u001b[1;32m   1331\u001b[0m                 \u001b[0;31m# appropriate size for the tag\u001b[0m\u001b[0;34m\u001b[0m\u001b[0;34m\u001b[0m\u001b[0;34m\u001b[0m\u001b[0m\n\u001b[0;32m-> 1332\u001b[0;31m                 \u001b[0mWriter\u001b[0m \u001b[0;34m=\u001b[0m \u001b[0mwriters\u001b[0m\u001b[0;34m[\u001b[0m\u001b[0mmpl\u001b[0m\u001b[0;34m.\u001b[0m\u001b[0mrcParams\u001b[0m\u001b[0;34m[\u001b[0m\u001b[0;34m'animation.writer'\u001b[0m\u001b[0;34m]\u001b[0m\u001b[0;34m]\u001b[0m\u001b[0;34m\u001b[0m\u001b[0;34m\u001b[0m\u001b[0m\n\u001b[0m\u001b[1;32m   1333\u001b[0m                 writer = Writer(codec='h264',\n\u001b[1;32m   1334\u001b[0m                                 \u001b[0mbitrate\u001b[0m\u001b[0;34m=\u001b[0m\u001b[0mmpl\u001b[0m\u001b[0;34m.\u001b[0m\u001b[0mrcParams\u001b[0m\u001b[0;34m[\u001b[0m\u001b[0;34m'animation.bitrate'\u001b[0m\u001b[0;34m]\u001b[0m\u001b[0;34m,\u001b[0m\u001b[0;34m\u001b[0m\u001b[0;34m\u001b[0m\u001b[0m\n",
      "\u001b[0;32m/usr/local/lib/python3.9/site-packages/matplotlib/animation.py\u001b[0m in \u001b[0;36m__getitem__\u001b[0;34m(self, name)\u001b[0m\n\u001b[1;32m    164\u001b[0m         \u001b[0;32mif\u001b[0m \u001b[0mself\u001b[0m\u001b[0;34m.\u001b[0m\u001b[0mis_available\u001b[0m\u001b[0;34m(\u001b[0m\u001b[0mname\u001b[0m\u001b[0;34m)\u001b[0m\u001b[0;34m:\u001b[0m\u001b[0;34m\u001b[0m\u001b[0;34m\u001b[0m\u001b[0m\n\u001b[1;32m    165\u001b[0m             \u001b[0;32mreturn\u001b[0m \u001b[0mself\u001b[0m\u001b[0;34m.\u001b[0m\u001b[0m_registered\u001b[0m\u001b[0;34m[\u001b[0m\u001b[0mname\u001b[0m\u001b[0;34m]\u001b[0m\u001b[0;34m\u001b[0m\u001b[0;34m\u001b[0m\u001b[0m\n\u001b[0;32m--> 166\u001b[0;31m         \u001b[0;32mraise\u001b[0m \u001b[0mRuntimeError\u001b[0m\u001b[0;34m(\u001b[0m\u001b[0;34mf\"Requested MovieWriter ({name}) not available\"\u001b[0m\u001b[0;34m)\u001b[0m\u001b[0;34m\u001b[0m\u001b[0;34m\u001b[0m\u001b[0m\n\u001b[0m\u001b[1;32m    167\u001b[0m \u001b[0;34m\u001b[0m\u001b[0m\n\u001b[1;32m    168\u001b[0m \u001b[0;34m\u001b[0m\u001b[0m\n",
      "\u001b[0;31mRuntimeError\u001b[0m: Requested MovieWriter (ffmpeg) not available"
     ]
    },
    {
     "data": {
      "image/png": "[encoded data removed]",
      "text/plain": [
       "<Figure size 432x288 with 1 Axes>"
      ]
     },
     "metadata": {
      "filenames": {
       "image/png": "/Users/benjaminwinjum/git/4skillsWorkshop/book/_build/jupyter_execute/velocities_16_1.png"
      },
      "needs_background": "light"
     },
     "output_type": "display_data"
    }
   ],
   "source": [
    "#####################\n",
    "# CHANGE here to make different waves and watch the velocity change\n",
    "w = 5.0\n",
    "k = 1.0\n",
    "#####################\n",
    "\n",
    "# Thanks to http://jakevdp.github.io/blog/2013/05/12/embedding-matplotlib-animations/ and http://louistiao.me/posts/notebooks/embedding-matplotlib-animations-in-jupyter-notebooks/\n",
    "%matplotlib inline\n",
    "import numpy as np\n",
    "import matplotlib.pyplot as plt\n",
    "from matplotlib import animation, rc\n",
    "from IPython.display import HTML\n",
    "from ipywidgets import interact\n",
    "\n",
    "# First set up the figure, the axis, and the plot element we want to animate\n",
    "fig, ax = plt.subplots(); ax.set_xlim(( 0, 10)); ax.set_ylim((-2, 2)); line, = ax.plot([], [], lw=2)\n",
    "\n",
    "# initialization function: plot the background of each frame\n",
    "def init():\n",
    "    line.set_data([], []); return (line,)\n",
    "\n",
    "# animation function. This is called sequentially\n",
    "def animate(i):\n",
    "    x = np.linspace(0, 10, 1000); y = np.sin(k * x - w * 0.05 * i); line.set_data(x, y); return (line,)\n",
    "\n",
    "# call the animator. blit=True means only re-draw the parts that have changed.\n",
    "anim = animation.FuncAnimation(fig, animate, init_func=init,frames=int(2*np.pi/w*40), interval=20, blit=True)\n",
    "HTML(anim.to_html5_video())"
   ]
  },
  {
   "cell_type": "markdown",
   "metadata": {},
   "source": [
    "The \"phase\" is $\\Phi = (kx-\\omega t)$.  A peak of the wave corresponds to one value of the phase, a trough of the wave is another phase point, and etc.\n",
    "\n",
    "If you track a peak of the wave (a point of constant phase) in space and time to see how fast it moves, you will be measuring the phase velocity.  By tracking a peak where the phase is constant:\n",
    "\n",
    "$$\\frac{d\\Phi}{dt} = 0$$\n",
    "\n",
    "which means that\n",
    "\n",
    "$$k \\frac{dx}{dt} - \\omega = 0$$\n",
    "\n",
    "from which we get\n",
    "\n",
    "$$\\frac{dx}{dt} = \\frac{\\omega}{k} = v_{\\phi}$$"
   ]
  },
  {
   "cell_type": "markdown",
   "metadata": {},
   "source": [
    "## Group velocity"
   ]
  },
  {
   "cell_type": "markdown",
   "metadata": {},
   "source": [
    "In addition to $v_{\\phi}$ there are other velocities associated with a wave.\n",
    "\n",
    "To see this, consider two waves at slightly different frequencies and wavenumbers: $(\\omega_1,k_1)$ and $(\\omega_2,k_2)$:\n",
    "\n",
    "$$E = A \\cos{(k_1 x - \\omega_1 t)} + B \\cos{(k_2 x - \\omega_2 t)}$$\n",
    "\n",
    "$$E = A \\cos{\\Phi_1} + B \\cos{\\Phi_2}$$\n",
    "\n",
    "By utilizing the trigonometric identity that $\\cos{A}\\cos{B} = \\frac{1}{2}(\\cos(\\frac{A + B}{2}) + \\cos(\\frac{A - B}{2}))$,\n",
    "\n",
    "$$E = 2A \\cos\\left(\\frac{\\Phi_1 + \\Phi_2}{2}\\right) \\cos\\left(\\frac{\\Phi_1 - \\Phi_2}{2}\\right)$$\n",
    "\n",
    "$$E = 2A \\cos(\\bar{k}x - \\bar{\\omega}t) \\cos\\left(\\frac{(\\Delta k) x - (\\Delta \\omega) t}{2}\\right)$$\n",
    "\n",
    "where $\\bar{k} = (k_1+k_2)/2 \\approx k_1$ or $k_2$, and $\\bar{\\omega} = (\\omega_1+\\omega_2)/2 \\approx \\omega_1$ or $\\omega_2$."
   ]
  },
  {
   "cell_type": "code",
   "execution_count": null,
   "metadata": {},
   "outputs": [],
   "source": [
    "#####################\n",
    "# DRAG the slider button to watch the waves move\n",
    "# BEWARE: because the plots are being generated at discrete time steps and at a discrete range of points,\n",
    "# you may find that waves \"fictiously\" move at different velocities if the grid or frame rate\n",
    "# does not properly resolve them\n",
    "#####################\n",
    "%matplotlib inline\n",
    "import numpy as np\n",
    "import matplotlib.pyplot as plt\n",
    "from ipywidgets import interact\n",
    "x = np.linspace(0, 100, 1000);\n",
    "def intplot(t=0,w1=20.0,k1=1.0,w2=20.05,k2=1.1):\n",
    "    plt.figure(figsize=(8, 4))\n",
    "    plt.plot(x,np.sin(k1 * x - w1 * t) + np.cos(k2 * x - w2 * t))\n",
    "    plt.xlim(0,100)\n",
    "    plt.ylim(-2,2)\n",
    "interact(intplot,t=(0,250),w1=(0.1,40.0),k1=(0.1,40.0),w2=(0.1,40.0),k2=(0.1,40.0));"
   ]
  },
  {
   "cell_type": "markdown",
   "metadata": {},
   "source": [
    "The solution here consists of the product of two motions.\n",
    "\n",
    "The quickly oscillating wave $(\\cos(\\bar{k}x - \\bar{\\omega}t))$ moves at the phase velocity\n",
    "\n",
    "$$ \\frac{\\bar{\\omega}}{\\bar{k}} \\approx \\frac{\\omega_1}{k_1} \\text{or} \\frac{\\omega_2}{k_2}$$\n",
    "\n",
    "The envelope on top, $\\cos((\\Delta k x - \\Delta \\omega t)/2)$, moves at a different velocity called the group velocity\n",
    "\n",
    "$$ \\frac{\\Delta\\omega}{\\Delta k} \\approx \\frac{\\partial \\omega}{\\partial k} = v_g $$\n",
    "\n",
    "$v_g$ can also be thought of as the energy transport velocity.  One can \"communicate\" with energy, so $v_g < c$ in order for special relativity to be satisfied, but there is no such restraint on $v_{\\phi}$ (which can in fact be larger than $c$)."
   ]
  },
  {
   "cell_type": "code",
   "execution_count": null,
   "metadata": {},
   "outputs": [],
   "source": [
    "#####################\n",
    "# CHANGE the sliders to make different waves\n",
    "# and NOTE the different slopes of v_phi vs v_g (can you tell which is which?)\n",
    "# BEWARE: because the plots are being generated at discrete time steps and at a discrete range of points,\n",
    "# you may find that waves \"fictiously\" move at different velocities if the grid or frame rate\n",
    "# does not properly resolve them\n",
    "#####################\n",
    "%matplotlib inline\n",
    "import numpy as np\n",
    "import matplotlib.pyplot as plt\n",
    "from ipywidgets import interact\n",
    "x = np.linspace(0, 100, 5000);\n",
    "plotdata = np.zeros( (100,5000) )\n",
    "def xtplot(w1=20.0,k1=1.0,w2=20.05,k2=1.1):\n",
    "    for t in range(100):\n",
    "        plotdata[t,:] = np.sin(k1 * x - w1 * t) + np.cos(k2 * x - w2 * t)\n",
    "    plt.figure(figsize=(8, 5))\n",
    "    plt.imshow(plotdata,origin='lower',aspect='auto',extent=[0,100,0,100],cmap=\"nipy_spectral\")\n",
    "    plt.xlim(0,100); plt.ylim(0,100); plt.clim(-2,2); plt.colorbar(orientation='vertical'); \n",
    "    plt.title('Time vs Space'); plt.xlabel('x'); plt.ylabel('t')\n",
    "interact(xtplot,t=(0,250),w1=(0.1,40.0),k1=(0.1,40.0),w2=(0.1,40.0),k2=(0.1,40.0));"
   ]
  },
  {
   "cell_type": "markdown",
   "metadata": {},
   "source": [
    "### Question\n",
    "-------\n",
    "* Can identify $v_{\\phi}$ and $v_g$ of the wave from this plot?\n",
    "-------"
   ]
  },
  {
   "cell_type": "markdown",
   "metadata": {},
   "source": [
    "## Dispersion"
   ]
  },
  {
   "cell_type": "markdown",
   "metadata": {},
   "source": [
    "There are two key velocities:\n",
    "\n",
    "$$v_{\\phi} = \\frac{\\omega}{k}$$\n",
    "\n",
    "$$v_g = \\frac{\\partial \\omega}{\\partial k}$$\n",
    "\n",
    "These velocities depend on the relationship between $\\omega$ and $k$.  Such a function, \n",
    "\n",
    "$$\\omega(k)$$\n",
    "\n",
    "is called **the dispersion relation** of the wave.\n",
    "\n",
    "Pick a $k$, and then $\\omega$ is defined.  \n",
    "Pick an $\\omega$, and then $k$ is defined.\n",
    "\n",
    "We need dispersion relations to determine the behavior of waves in plasmas.\n",
    "\n",
    "For the next several weeks, our goal will be to derive the dispersion relation $\\omega(k)$ for many of the basic waves which can exist in a plasma.  (**not all** - not enough time.)"
   ]
  }
 ],
 "metadata": {
  "anaconda-cloud": {},
  "kernelspec": {
   "display_name": "Python 3",
   "language": "python",
   "name": "python3"
  },
  "language_info": {
   "codemirror_mode": {
    "name": "ipython",
    "version": 3
   },
   "file_extension": ".py",
   "mimetype": "text/x-python",
   "name": "python",
   "nbconvert_exporter": "python",
   "pygments_lexer": "ipython3",
   "version": "3.9.5"
  }
 },
 "nbformat": 4,
 "nbformat_minor": 2
}